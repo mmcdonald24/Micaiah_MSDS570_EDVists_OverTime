{
 "cells": [
  {
   "cell_type": "markdown",
   "id": "cba210cf-2eec-48ac-9abe-33290ecc24ce",
   "metadata": {},
   "source": [
    "# Data Loading"
   ]
  },
  {
   "cell_type": "code",
   "execution_count": 14,
   "id": "53294034-705e-4b9e-9289-dcc98e61e615",
   "metadata": {},
   "outputs": [],
   "source": [
    "## Import necessary packages ##\n",
    "import pandas as pd\n",
    "import numpy as np\n",
    "from datetime import datetime, timedelta\n",
    "import seaborn as sns\n",
    "import matplotlib.pyplot as plt"
   ]
  },
  {
   "cell_type": "code",
   "execution_count": 4,
   "id": "af07b6bd-c562-4949-a7d5-57f9545748d9",
   "metadata": {},
   "outputs": [
    {
     "data": {
      "text/html": [
       "<div>\n",
       "<style scoped>\n",
       "    .dataframe tbody tr th:only-of-type {\n",
       "        vertical-align: middle;\n",
       "    }\n",
       "\n",
       "    .dataframe tbody tr th {\n",
       "        vertical-align: top;\n",
       "    }\n",
       "\n",
       "    .dataframe thead th {\n",
       "        text-align: right;\n",
       "    }\n",
       "</style>\n",
       "<table border=\"1\" class=\"dataframe\">\n",
       "  <thead>\n",
       "    <tr style=\"text-align: right;\">\n",
       "      <th></th>\n",
       "      <th>year</th>\n",
       "      <th>oshpd_id</th>\n",
       "      <th>facility_name</th>\n",
       "      <th>county_name</th>\n",
       "      <th>er_service_level_desc</th>\n",
       "      <th>type</th>\n",
       "      <th>count</th>\n",
       "    </tr>\n",
       "  </thead>\n",
       "  <tbody>\n",
       "    <tr>\n",
       "      <th>0</th>\n",
       "      <td>2012</td>\n",
       "      <td>106010735</td>\n",
       "      <td>ALAMEDA HOSPITAL</td>\n",
       "      <td>ALAMEDA</td>\n",
       "      <td>BASIC</td>\n",
       "      <td>ED_Admit</td>\n",
       "      <td>2595.0</td>\n",
       "    </tr>\n",
       "    <tr>\n",
       "      <th>1</th>\n",
       "      <td>2012</td>\n",
       "      <td>106010735</td>\n",
       "      <td>ALAMEDA HOSPITAL</td>\n",
       "      <td>ALAMEDA</td>\n",
       "      <td>BASIC</td>\n",
       "      <td>ED_Visit</td>\n",
       "      <td>13727.0</td>\n",
       "    </tr>\n",
       "    <tr>\n",
       "      <th>2</th>\n",
       "      <td>2013</td>\n",
       "      <td>106010735</td>\n",
       "      <td>ALAMEDA HOSPITAL</td>\n",
       "      <td>ALAMEDA</td>\n",
       "      <td>BASIC</td>\n",
       "      <td>ED_Admit</td>\n",
       "      <td>2579.0</td>\n",
       "    </tr>\n",
       "    <tr>\n",
       "      <th>3</th>\n",
       "      <td>2013</td>\n",
       "      <td>106010735</td>\n",
       "      <td>ALAMEDA HOSPITAL</td>\n",
       "      <td>ALAMEDA</td>\n",
       "      <td>BASIC</td>\n",
       "      <td>ED_Visit</td>\n",
       "      <td>13538.0</td>\n",
       "    </tr>\n",
       "    <tr>\n",
       "      <th>4</th>\n",
       "      <td>2014</td>\n",
       "      <td>106010735</td>\n",
       "      <td>ALAMEDA HOSPITAL</td>\n",
       "      <td>ALAMEDA</td>\n",
       "      <td>BASIC</td>\n",
       "      <td>ED_Admit</td>\n",
       "      <td>2214.0</td>\n",
       "    </tr>\n",
       "    <tr>\n",
       "      <th>...</th>\n",
       "      <td>...</td>\n",
       "      <td>...</td>\n",
       "      <td>...</td>\n",
       "      <td>...</td>\n",
       "      <td>...</td>\n",
       "      <td>...</td>\n",
       "      <td>...</td>\n",
       "    </tr>\n",
       "    <tr>\n",
       "      <th>7841</th>\n",
       "      <td>2021</td>\n",
       "      <td>106580996</td>\n",
       "      <td>ADVENTIST HEALTH AND RIDEOUT</td>\n",
       "      <td>YUBA</td>\n",
       "      <td>BASIC</td>\n",
       "      <td>ED_Visit</td>\n",
       "      <td>55341.0</td>\n",
       "    </tr>\n",
       "    <tr>\n",
       "      <th>7842</th>\n",
       "      <td>2022</td>\n",
       "      <td>106580996</td>\n",
       "      <td>ADVENTIST HEALTH AND RIDEOUT</td>\n",
       "      <td>YUBA</td>\n",
       "      <td>BASIC</td>\n",
       "      <td>ED_Admit</td>\n",
       "      <td>7840.0</td>\n",
       "    </tr>\n",
       "    <tr>\n",
       "      <th>7843</th>\n",
       "      <td>2022</td>\n",
       "      <td>106580996</td>\n",
       "      <td>ADVENTIST HEALTH AND RIDEOUT</td>\n",
       "      <td>YUBA</td>\n",
       "      <td>BASIC</td>\n",
       "      <td>ED_Visit</td>\n",
       "      <td>63625.0</td>\n",
       "    </tr>\n",
       "    <tr>\n",
       "      <th>7844</th>\n",
       "      <td>2023</td>\n",
       "      <td>106580996</td>\n",
       "      <td>ADVENTIST HEALTH AND RIDEOUT</td>\n",
       "      <td>YUBA</td>\n",
       "      <td>BASIC</td>\n",
       "      <td>ED_Visit</td>\n",
       "      <td>60131.0</td>\n",
       "    </tr>\n",
       "    <tr>\n",
       "      <th>7845</th>\n",
       "      <td>2023</td>\n",
       "      <td>106580996</td>\n",
       "      <td>ADVENTIST HEALTH AND RIDEOUT</td>\n",
       "      <td>YUBA</td>\n",
       "      <td>BASIC</td>\n",
       "      <td>ED_Admit</td>\n",
       "      <td>8270.0</td>\n",
       "    </tr>\n",
       "  </tbody>\n",
       "</table>\n",
       "<p>7846 rows × 7 columns</p>\n",
       "</div>"
      ],
      "text/plain": [
       "      year   oshpd_id                 facility_name county_name  \\\n",
       "0     2012  106010735              ALAMEDA HOSPITAL     ALAMEDA   \n",
       "1     2012  106010735              ALAMEDA HOSPITAL     ALAMEDA   \n",
       "2     2013  106010735              ALAMEDA HOSPITAL     ALAMEDA   \n",
       "3     2013  106010735              ALAMEDA HOSPITAL     ALAMEDA   \n",
       "4     2014  106010735              ALAMEDA HOSPITAL     ALAMEDA   \n",
       "...    ...        ...                           ...         ...   \n",
       "7841  2021  106580996  ADVENTIST HEALTH AND RIDEOUT        YUBA   \n",
       "7842  2022  106580996  ADVENTIST HEALTH AND RIDEOUT        YUBA   \n",
       "7843  2022  106580996  ADVENTIST HEALTH AND RIDEOUT        YUBA   \n",
       "7844  2023  106580996  ADVENTIST HEALTH AND RIDEOUT        YUBA   \n",
       "7845  2023  106580996  ADVENTIST HEALTH AND RIDEOUT        YUBA   \n",
       "\n",
       "     er_service_level_desc      type    count  \n",
       "0                    BASIC  ED_Admit   2595.0  \n",
       "1                    BASIC  ED_Visit  13727.0  \n",
       "2                    BASIC  ED_Admit   2579.0  \n",
       "3                    BASIC  ED_Visit  13538.0  \n",
       "4                    BASIC  ED_Admit   2214.0  \n",
       "...                    ...       ...      ...  \n",
       "7841                 BASIC  ED_Visit  55341.0  \n",
       "7842                 BASIC  ED_Admit   7840.0  \n",
       "7843                 BASIC  ED_Visit  63625.0  \n",
       "7844                 BASIC  ED_Visit  60131.0  \n",
       "7845                 BASIC  ED_Admit   8270.0  \n",
       "\n",
       "[7846 rows x 7 columns]"
      ]
     },
     "execution_count": 4,
     "metadata": {},
     "output_type": "execute_result"
    }
   ],
   "source": [
    "## Import the data ##\n",
    "df = pd.read_csv(\"../Final Project/Datasets/encounters-by-facility_2012-2023_20240702.csv\")\n",
    "df"
   ]
  },
  {
   "cell_type": "code",
   "execution_count": 8,
   "id": "05f930a2-de30-43ff-9dfc-bdd151793f89",
   "metadata": {},
   "outputs": [
    {
     "name": "stdout",
     "output_type": "stream",
     "text": [
      "   year   oshpd_id     facility_name county_name er_service_level_desc  \\\n",
      "0  2012  106010735  ALAMEDA HOSPITAL     ALAMEDA                 BASIC   \n",
      "1  2012  106010735  ALAMEDA HOSPITAL     ALAMEDA                 BASIC   \n",
      "2  2013  106010735  ALAMEDA HOSPITAL     ALAMEDA                 BASIC   \n",
      "3  2013  106010735  ALAMEDA HOSPITAL     ALAMEDA                 BASIC   \n",
      "4  2014  106010735  ALAMEDA HOSPITAL     ALAMEDA                 BASIC   \n",
      "\n",
      "       type    count  \n",
      "0  ED_Admit   2595.0  \n",
      "1  ED_Visit  13727.0  \n",
      "2  ED_Admit   2579.0  \n",
      "3  ED_Visit  13538.0  \n",
      "4  ED_Admit   2214.0  \n",
      "<class 'pandas.core.frame.DataFrame'>\n",
      "RangeIndex: 7846 entries, 0 to 7845\n",
      "Data columns (total 7 columns):\n",
      " #   Column                 Non-Null Count  Dtype  \n",
      "---  ------                 --------------  -----  \n",
      " 0   year                   7846 non-null   int64  \n",
      " 1   oshpd_id               7846 non-null   int64  \n",
      " 2   facility_name          7846 non-null   object \n",
      " 3   county_name            7846 non-null   object \n",
      " 4   er_service_level_desc  7680 non-null   object \n",
      " 5   type                   7846 non-null   object \n",
      " 6   count                  7748 non-null   float64\n",
      "dtypes: float64(1), int64(2), object(4)\n",
      "memory usage: 429.2+ KB\n",
      "None\n"
     ]
    }
   ],
   "source": [
    "## Display the first few rows & basic information ##\n",
    "print(df.head())\n",
    "print(df.info())"
   ]
  },
  {
   "cell_type": "code",
   "execution_count": 10,
   "id": "13f71541-6c6b-4646-a9af-000d1d85b8b0",
   "metadata": {},
   "outputs": [
    {
     "name": "stdout",
     "output_type": "stream",
     "text": [
      "year                       0\n",
      "oshpd_id                   0\n",
      "facility_name              0\n",
      "county_name                0\n",
      "er_service_level_desc    166\n",
      "type                       0\n",
      "count                     98\n",
      "dtype: int64\n"
     ]
    }
   ],
   "source": [
    "## Check for missing values ##\n",
    "print(df.isnull().sum())"
   ]
  },
  {
   "cell_type": "markdown",
   "id": "f393ff89-6845-44e6-9f3f-d4705022b4b3",
   "metadata": {},
   "source": [
    "# Data Preprocessing "
   ]
  },
  {
   "cell_type": "code",
   "execution_count": 16,
   "id": "b6f78e17-5a14-4da9-ae79-e1880bda52a6",
   "metadata": {},
   "outputs": [],
   "source": [
    "## Convert 'year' to datetime ##\n",
    "df['year'] = pd.to_datetime(df['year'], format='%Y')"
   ]
  },
  {
   "cell_type": "code",
   "execution_count": 18,
   "id": "55f7f036-2584-4acf-89d9-6031b865978c",
   "metadata": {},
   "outputs": [],
   "source": [
    "## Convert 'count' to numeric, replacing any non-numeric values with NaN ##\n",
    "df['count'] = pd.to_numeric(df['count'], errors='coerce')"
   ]
  },
  {
   "cell_type": "code",
   "execution_count": 20,
   "id": "a23e6a9a-a3c5-4add-91b7-94f46d5b3e99",
   "metadata": {},
   "outputs": [],
   "source": [
    "## Create a new column 'visit_type' based on 'type' column ##\n",
    "df['visit_type'] = df['type'].map({'ED_Admit': 'Admission', 'ED_Visit': 'Visit'})"
   ]
  },
  {
   "cell_type": "code",
   "execution_count": 22,
   "id": "b61f714e-d5bf-4083-9bd7-c60962c5a508",
   "metadata": {},
   "outputs": [],
   "source": [
    "## Group by year, facility, and visit type. Get the total sum count ##\n",
    "df_grouped = df.groupby(['year', 'facility_name', 'visit_type'])['count'].sum().unstack(level='visit_type').reset_index()"
   ]
  },
  {
   "cell_type": "code",
   "execution_count": 26,
   "id": "2fc40405-1721-4f32-9106-3f341ec6fc38",
   "metadata": {},
   "outputs": [],
   "source": [
    "## Calculate the total number of visits & admission rate ##\n",
    "df_grouped['Total_Visits'] = df_grouped['Admission'].fillna(0) + df_grouped['Visit'].fillna(0)\n",
    "df_grouped['Admission_Rate'] = df_grouped['Admission'] / df_grouped['Total_Visits']"
   ]
  },
  {
   "cell_type": "code",
   "execution_count": 28,
   "id": "5d95414b-1d60-40c8-89d5-8fdbaa864d05",
   "metadata": {},
   "outputs": [],
   "source": [
    "## Sort the dataframe by year and total visits ##\n",
    "df_grouped = df_grouped.sort_values(['year', \"Total_Visits\"], ascending=[True, False])"
   ]
  },
  {
   "cell_type": "code",
   "execution_count": 30,
   "id": "20fbbdd6-4103-407b-abc7-d6d9e71837c6",
   "metadata": {},
   "outputs": [
    {
     "name": "stdout",
     "output_type": "stream",
     "text": [
      "visit_type       year                         facility_name  Admission  \\\n",
      "148        2012-01-01                LAC+USC MEDICAL CENTER    24362.0   \n",
      "119        2012-01-01  KAISER FOUNDATION HOSPITAL - FONTANA    13039.0   \n",
      "22         2012-01-01     ARROWHEAD REGIONAL MEDICAL CENTER    20362.0   \n",
      "257        2012-01-01                SCRIPPS MERCY HOSPITAL    21138.0   \n",
      "21         2012-01-01              ANTELOPE VALLEY HOSPITAL    13234.0   \n",
      "\n",
      "visit_type     Visit  Total_Visits  Admission_Rate  \n",
      "148         120359.0      144721.0        0.168338  \n",
      "119         110985.0      124024.0        0.105133  \n",
      "22           95717.0      116079.0        0.175415  \n",
      "257          84655.0      105793.0        0.199805  \n",
      "21           91791.0      105025.0        0.126008  \n"
     ]
    }
   ],
   "source": [
    "## Display the first few rows of the processed data ##\n",
    "print(df_grouped.head())"
   ]
  },
  {
   "cell_type": "markdown",
   "id": "a4f58b68-3013-45a4-9cce-21be2d8bda9b",
   "metadata": {},
   "source": [
    "# Basic visualizations"
   ]
  },
  {
   "cell_type": "markdown",
   "id": "8f65485a-aaf3-4c0e-8a6b-a550d0516308",
   "metadata": {},
   "source": [
    "Gives an overall view of the data after preprocessing the dataset. Here I use the boxplot to show the distribution of Admission Rate along with the summary statisitcs of Admission Rate and Total Visits group by the year. "
   ]
  },
  {
   "cell_type": "code",
   "execution_count": 35,
   "id": "69668f5a-441d-416e-92a0-5a1a3ca29761",
   "metadata": {},
   "outputs": [
    {
     "data": {
      "image/png": "[encoded data removed]",
      "text/plain": [
       "<Figure size 1200x600 with 1 Axes>"
      ]
     },
     "metadata": {},
     "output_type": "display_data"
    }
   ],
   "source": [
    "plt.figure(figsize=(12, 6))\n",
    "sns.boxplot(data=df_grouped, x='year', y='Admission_Rate')\n",
    "plt.title('Distribution of Admission Rates Over TIme')\n",
    "plt.xticks(rotation=45)\n",
    "plt.show()"
   ]
  },
  {
   "cell_type": "code",
   "execution_count": 37,
   "id": "9c8eca94-118d-4420-9a74-d435ad0c94ed",
   "metadata": {},
   "outputs": [
    {
     "name": "stdout",
     "output_type": "stream",
     "text": [
      "visit_type Total_Visits                                                      \\\n",
      "                  count          mean           std  min       25%      50%   \n",
      "year                                                                          \n",
      "2012-01-01        331.0  37482.909366  25734.138450  1.0  16701.00  33061.0   \n",
      "2013-01-01        331.0  38422.731118  26802.923023  1.0  17138.50  34310.0   \n",
      "2014-01-01        332.0  40300.560241  27531.367832  1.0  18040.50  36883.5   \n",
      "2015-01-01        328.0  43454.542683  29251.999209  1.0  20044.25  39147.0   \n",
      "2016-01-01        326.0  44625.837423  30060.712194  1.0  20718.00  39931.0   \n",
      "2017-01-01        331.0  44785.776435  31320.341601  1.0  19797.00  39730.0   \n",
      "2018-01-01        333.0  43919.738739  31548.066471  1.0  18992.00  38562.0   \n",
      "2019-01-01        326.0  45563.751534  32210.586890  1.0  19674.00  40094.5   \n",
      "2020-01-01        320.0  37111.606250  25995.507695  1.0  16635.25  32219.0   \n",
      "2021-01-01        322.0  39968.618012  28477.518134  1.0  17605.75  33830.0   \n",
      "2022-01-01        320.0  44672.078125  31091.415892  1.0  20555.25  37827.0   \n",
      "2023-01-01        320.0  46323.487500  32411.301880  1.0  20102.00  39660.0   \n",
      "\n",
      "visit_type                     Admission_Rate                                \\\n",
      "                 75%       max          count      mean       std       min   \n",
      "year                                                                          \n",
      "2012-01-01  52606.50  144721.0          331.0  0.158827  0.138662  0.000000   \n",
      "2013-01-01  55153.00  148135.0          331.0  0.152524  0.131221  0.000000   \n",
      "2014-01-01  56933.00  141686.0          332.0  0.146763  0.138975  0.000315   \n",
      "2015-01-01  60921.50  141991.0          328.0  0.138392  0.122702  0.000612   \n",
      "2016-01-01  64402.25  143786.0          326.0  0.140050  0.133028  0.000000   \n",
      "2017-01-01  66207.50  142309.0          331.0  0.154269  0.169978  0.000000   \n",
      "2018-01-01  65090.00  147992.0          333.0  0.158652  0.176132  0.000000   \n",
      "2019-01-01  65851.75  158128.0          326.0  0.153552  0.158012  0.000000   \n",
      "2020-01-01  53541.75  137839.0          320.0  0.162423  0.137577  0.000000   \n",
      "2021-01-01  56729.75  154217.0          322.0  0.156427  0.129379  0.000000   \n",
      "2022-01-01  62787.75  156571.0          320.0  0.148808  0.137675  0.000000   \n",
      "2023-01-01  65200.75  163351.0          320.0  0.147987  0.138100  0.000000   \n",
      "\n",
      "visit_type                                     \n",
      "                 25%       50%       75%  max  \n",
      "year                                           \n",
      "2012-01-01  0.098277  0.135198  0.182478  1.0  \n",
      "2013-01-01  0.092865  0.130330  0.176760  1.0  \n",
      "2014-01-01  0.087480  0.123929  0.166030  1.0  \n",
      "2015-01-01  0.081471  0.120158  0.163858  1.0  \n",
      "2016-01-01  0.077671  0.120130  0.162028  1.0  \n",
      "2017-01-01  0.078664  0.124063  0.162775  1.0  \n",
      "2018-01-01  0.080874  0.123579  0.169982  1.0  \n",
      "2019-01-01  0.081552  0.127878  0.171996  1.0  \n",
      "2020-01-01  0.093299  0.146652  0.193251  1.0  \n",
      "2021-01-01  0.092881  0.140836  0.190985  1.0  \n",
      "2022-01-01  0.083817  0.131333  0.182065  1.0  \n",
      "2023-01-01  0.085009  0.129617  0.178741  1.0  \n"
     ]
    }
   ],
   "source": [
    "## Summary statistics ##\n",
    "print(df_grouped.groupby('year')[['Total_Visits', 'Admission_Rate']].describe())"
   ]
  },
  {
   "cell_type": "code",
   "execution_count": null,
   "id": "398d146e-59c5-425d-9515-f82d690941f9",
   "metadata": {},
   "outputs": [],
   "source": []
  }
 ],
 "metadata": {
  "kernelspec": {
   "display_name": "Python 3 (ipykernel)",
   "language": "python",
   "name": "python3"
  },
  "language_info": {
   "codemirror_mode": {
    "name": "ipython",
    "version": 3
   },
   "file_extension": ".py",
   "mimetype": "text/x-python",
   "name": "python",
   "nbconvert_exporter": "python",
   "pygments_lexer": "ipython3",
   "version": "3.12.2"
  }
 },
 "nbformat": 4,
 "nbformat_minor": 5
}
